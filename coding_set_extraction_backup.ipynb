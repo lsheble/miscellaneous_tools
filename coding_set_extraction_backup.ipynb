{
 "metadata": {
  "name": "",
  "signature": "sha256:fdcd67e5f84bbcfa0dcab6cbc528fa30048d77e5d87d50521d2a550837131494"
 },
 "nbformat": 3,
 "nbformat_minor": 0,
 "worksheets": [
  {
   "cells": [
    {
     "cell_type": "code",
     "collapsed": false,
     "input": [
      "# wrote _v3 to see what happens when using mergesort rather than quicksort (slower, but index-stable)\n",
      "#Include everytime things:\n",
      "import pandas as pd\n",
      "#import scipy as sp\n",
      "import numpy as np\n",
      "#import matplotlib as plt\n",
      "#import networkx as nx"
     ],
     "language": "python",
     "metadata": {},
     "outputs": [],
     "prompt_number": 77
    },
    {
     "cell_type": "code",
     "collapsed": false,
     "input": [
      "# read in data:\n",
      "# df = pd.read_table('/Users/laurasheble/IBM_sets/IBM_crystal.txt', sep='\\t', header = True, names = ['pmid', 'outcome'], encoding='utf8')\n",
      "df = pd.read_table('/Users/laurasheble/IBM_sets/IBM_laura.txt', sep='\\t', header = True, names = ['pmid', 'outcome'], encoding='utf8')"
     ],
     "language": "python",
     "metadata": {},
     "outputs": [],
     "prompt_number": 85
    },
    {
     "cell_type": "code",
     "collapsed": false,
     "input": [
      "df.head(5)"
     ],
     "language": "python",
     "metadata": {},
     "outputs": [
      {
       "html": [
        "<div style=\"max-height:1000px;max-width:1500px;overflow:auto;\">\n",
        "<table border=\"1\" class=\"dataframe\">\n",
        "  <thead>\n",
        "    <tr style=\"text-align: right;\">\n",
        "      <th></th>\n",
        "      <th>pmid</th>\n",
        "      <th>outcome</th>\n",
        "    </tr>\n",
        "  </thead>\n",
        "  <tbody>\n",
        "    <tr>\n",
        "      <th>0</th>\n",
        "      <td>  7591042</td>\n",
        "      <td> include</td>\n",
        "    </tr>\n",
        "    <tr>\n",
        "      <th>1</th>\n",
        "      <td>  7722105</td>\n",
        "      <td> include</td>\n",
        "    </tr>\n",
        "    <tr>\n",
        "      <th>2</th>\n",
        "      <td>  9194482</td>\n",
        "      <td> include</td>\n",
        "    </tr>\n",
        "    <tr>\n",
        "      <th>3</th>\n",
        "      <td>  9440579</td>\n",
        "      <td> include</td>\n",
        "    </tr>\n",
        "    <tr>\n",
        "      <th>4</th>\n",
        "      <td> 10066353</td>\n",
        "      <td> include</td>\n",
        "    </tr>\n",
        "  </tbody>\n",
        "</table>\n",
        "</div>"
       ],
       "metadata": {},
       "output_type": "pyout",
       "prompt_number": 86,
       "text": [
        "       pmid  outcome\n",
        "0   7591042  include\n",
        "1   7722105  include\n",
        "2   9194482  include\n",
        "3   9440579  include\n",
        "4  10066353  include"
       ]
      }
     ],
     "prompt_number": 86
    },
    {
     "cell_type": "code",
     "collapsed": false,
     "input": [
      "overlap_list = [7591042,9194482,9504936,10869988,11313180,11744831,12011407,12281834,15633986,15957985,16368455,17108597,17137309,17323694,17416357,17548029,17953479,18083198,18203084,18232735,18335060,18436414,18453457,18633983,18953229,18999291,19101772,19239349,19262424,19267006,19331709,19467539,19638194,19701483,19998273,20067405,20098493,20107505,20174629,20459599,21288058,21344201,21505319,21720536,21779251,21811595,21858048,21949895,22032767,22168201,22293527,22559293,22664069,22735220,22753466,22755480,22792296,22812690,22844438,22912660,22919114,22967148,22999130,23101874,23185130,23289448,23300388,23347041,23398540,23551850,23697908,23704974,23763426,23763578,23883749,24034158,24038611,24039829,24108720,24147108,24299258,24324606,24401648,24422261,24516519,24592931,24659535,24684467,24832140,24832414,24922966,24951404,15528582,11323349,20855801,18166758,12735566,24884470,24708517,10023833,20021259,18923388,12332970,22989068,23291978,21624780,16186149,22829106,24084395,21054371,19804686,23571848,24131053,11219355,20411862,19825376,24076451,17684185,21212440,12369227,20508388,15843279,22545108,21408019,17545684,23017797,21218144,22176732,22838026,24482343,19744297]"
     ],
     "language": "python",
     "metadata": {},
     "outputs": [],
     "prompt_number": 87
    },
    {
     "cell_type": "code",
     "collapsed": false,
     "input": [
      "len(overlap_list)"
     ],
     "language": "python",
     "metadata": {},
     "outputs": [
      {
       "metadata": {},
       "output_type": "pyout",
       "prompt_number": 88,
       "text": [
        "131"
       ]
      }
     ],
     "prompt_number": 88
    },
    {
     "cell_type": "code",
     "collapsed": false,
     "input": [
      "df_c = df[df['pmid'].isin(overlap_list)]"
     ],
     "language": "python",
     "metadata": {},
     "outputs": [],
     "prompt_number": 89
    },
    {
     "cell_type": "code",
     "collapsed": false,
     "input": [
      "len(df_c)"
     ],
     "language": "python",
     "metadata": {},
     "outputs": [
      {
       "metadata": {},
       "output_type": "pyout",
       "prompt_number": 90,
       "text": [
        "130"
       ]
      }
     ],
     "prompt_number": 90
    },
    {
     "cell_type": "code",
     "collapsed": false,
     "input": [
      "# write file with combined IDs to csv\n",
      "# this is cleaner than excel for encoding\n",
      "# df_c.to_csv('/Users/laurasheble/IBM_sets/IBM_crystal_overlap_out.csv', encoding='utf-8', index=False, columns=('pmid', 'outcome'))\n",
      "df_c.to_csv('/Users/laurasheble/IBM_sets/IBM_laura_overlap_out.csv', encoding='utf-8', index=False, columns=('pmid', 'outcome'))"
     ],
     "language": "python",
     "metadata": {},
     "outputs": [],
     "prompt_number": 91
    },
    {
     "cell_type": "code",
     "collapsed": false,
     "input": [],
     "language": "python",
     "metadata": {},
     "outputs": []
    }
   ],
   "metadata": {}
  }
 ]
}