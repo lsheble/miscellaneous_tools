{
 "cells": [
  {
   "attachments": {},
   "cell_type": "markdown",
   "metadata": {},
   "source": [
    "# Overview of LIDAR data set starter\n",
    "\n",
    "Dataset stored in the compressed LAS, i.e., LAZ format.\n",
    "\n",
    "Esri's \"[What is a LAS dataset?](https://desktop.arcgis.com/en/arcmap/latest/manage-data/las-dataset/what-is-a-las-dataset-.htm)\" is a helpful introduction to LAS data.\n",
    "\n",
    "**Libraries**\n",
    "\n",
    "- [laspy](https://laspy.readthedocs.io/en/latest/index.html) to read, review contents\n",
    "  - since reading a LAZ file, need lazrs, which is not automatically installed with the laspy library\n",
    "  - see [laspy installation options](https://laspy.readthedocs.io/en/latest/installation.html)\n",
    "- [Open3D](http://www.open3d.org/) for a quick visualization.\n",
    "  - Experimental [Jupyter Visualization](http://www.open3d.org/docs/latest/tutorial/Basic/jupyter.html) support might be worth looking into if using Open3D more intensively\n",
    "- [numpy.stack](https://numpy.org/doc/stable/reference/generated/numpy.stack.html) for x,y,z coordinates data structure to read into Open3D\n",
    "\n",
    "\n",
    "**Data**\n",
    "\n",
    "- [Detroit Street View Terrestrial Lidar data desription](https://data.detroitmi.gov/datasets/detroitmi::detroit-street-view-terrestrial-lidar-2020-2022/about)\n",
    "- [MichiganAve_Corktown_20220317 sample data](https://detroitmi.maps.arcgis.com/home/item.html?id=69853441d944442f9e79199b57f26fe3)\n",
    "\n"
   ]
  },
  {
   "cell_type": "code",
   "execution_count": 1,
   "metadata": {},
   "outputs": [
    {
     "name": "stdout",
     "output_type": "stream",
     "text": [
      "Jupyter environment detected. Enabling Open3D WebVisualizer.\n",
      "[Open3D INFO] WebRTC GUI backend enabled.\n",
      "[Open3D INFO] WebRTCWindowSystem: HTTP handshake server disabled.\n"
     ]
    }
   ],
   "source": [
    "# load libraries\n",
    "import laspy\n",
    "import open3d as o3d\n",
    "import numpy as np"
   ]
  },
  {
   "cell_type": "code",
   "execution_count": 2,
   "metadata": {},
   "outputs": [],
   "source": [
    "# read data file\n",
    "las = laspy.read(\"/mnt/c/Users/sheblel/documents/lidar-data-look/Record_3_001/Record_3_001.laz\")"
   ]
  },
  {
   "cell_type": "code",
   "execution_count": 3,
   "metadata": {},
   "outputs": [
    {
     "data": {
      "text/plain": [
       "<LasData(1.4, point fmt: <PointFormat(7, 0 bytes of extra dims)>, 13057536 points, 0 vlrs)>"
      ]
     },
     "execution_count": 3,
     "metadata": {},
     "output_type": "execute_result"
    }
   ],
   "source": [
    "# data overview\n",
    "las"
   ]
  },
  {
   "cell_type": "code",
   "execution_count": 4,
   "metadata": {},
   "outputs": [
    {
     "data": {
      "text/plain": [
       "['X',\n",
       " 'Y',\n",
       " 'Z',\n",
       " 'intensity',\n",
       " 'return_number',\n",
       " 'number_of_returns',\n",
       " 'synthetic',\n",
       " 'key_point',\n",
       " 'withheld',\n",
       " 'overlap',\n",
       " 'scanner_channel',\n",
       " 'scan_direction_flag',\n",
       " 'edge_of_flight_line',\n",
       " 'classification',\n",
       " 'user_data',\n",
       " 'scan_angle',\n",
       " 'point_source_id',\n",
       " 'gps_time',\n",
       " 'red',\n",
       " 'green',\n",
       " 'blue']"
      ]
     },
     "execution_count": 4,
     "metadata": {},
     "output_type": "execute_result"
    }
   ],
   "source": [
    "# Learn which dimensions are included in the dataset\n",
    "list(las.point_format.dimension_names)"
   ]
  },
  {
   "cell_type": "code",
   "execution_count": 5,
   "metadata": {},
   "outputs": [
    {
     "data": {
      "text/plain": [
       "{0}"
      ]
     },
     "execution_count": 5,
     "metadata": {},
     "output_type": "execute_result"
    }
   ],
   "source": [
    "# List classifications used... none in this dataset\n",
    "set(list(las.classification))"
   ]
  },
  {
   "cell_type": "code",
   "execution_count": 6,
   "metadata": {},
   "outputs": [
    {
     "data": {
      "text/plain": [
       "<SubFieldView([0 0 0 ... 0 0 0])>"
      ]
     },
     "execution_count": 6,
     "metadata": {},
     "output_type": "execute_result"
    }
   ],
   "source": [
    "# Overview: dimension values\n",
    "las.scan_direction_flag"
   ]
  },
  {
   "cell_type": "code",
   "execution_count": 7,
   "metadata": {},
   "outputs": [
    {
     "data": {
      "text/plain": [
       "{0}"
      ]
     },
     "execution_count": 7,
     "metadata": {},
     "output_type": "execute_result"
    }
   ],
   "source": [
    "# Are all values 0?... yes.\n",
    "set(list(las.scan_direction_flag))"
   ]
  },
  {
   "cell_type": "code",
   "execution_count": 8,
   "metadata": {},
   "outputs": [
    {
     "data": {
      "text/plain": [
       "0"
      ]
     },
     "execution_count": 8,
     "metadata": {},
     "output_type": "execute_result"
    }
   ],
   "source": [
    "# No color info stored either\n",
    "max(las.green)"
   ]
  },
  {
   "cell_type": "code",
   "execution_count": 9,
   "metadata": {},
   "outputs": [
    {
     "data": {
      "text/plain": [
       "array([[    501,     373,      88],\n",
       "       [    495,     383,      90],\n",
       "       [    497,     395,      97],\n",
       "       ...,\n",
       "       [1574458,  144045,     715],\n",
       "       [1574502,  143987,     681],\n",
       "       [1574459,  144026,     698]], dtype=int32)"
      ]
     },
     "execution_count": 9,
     "metadata": {},
     "output_type": "execute_result"
    }
   ],
   "source": [
    "# Build data structure for Open3D\n",
    "point_data = np.stack([las.X, las.Y, las.Z], axis=0).transpose((1, 0))\n",
    "point_data"
   ]
  },
  {
   "cell_type": "code",
   "execution_count": 10,
   "metadata": {},
   "outputs": [],
   "source": [
    "# Set up visualization\n",
    "geom = o3d.geometry.PointCloud()\n",
    "geom.points = o3d.utility.Vector3dVector(point_data)"
   ]
  },
  {
   "cell_type": "code",
   "execution_count": 12,
   "metadata": {},
   "outputs": [
    {
     "name": "stderr",
     "output_type": "stream",
     "text": [
      "UsageError: Line magic function `%o3d` not found.\n"
     ]
    }
   ],
   "source": [
    "# Visualize\n",
    "## opens in separate window\n",
    "o3d.visualization.draw_geometries([geom])"
   ]
  }
 ],
 "metadata": {
  "kernelspec": {
   "display_name": "Python 3",
   "language": "python",
   "name": "python3"
  },
  "language_info": {
   "codemirror_mode": {
    "name": "ipython",
    "version": 3
   },
   "file_extension": ".py",
   "mimetype": "text/x-python",
   "name": "python",
   "nbconvert_exporter": "python",
   "pygments_lexer": "ipython3",
   "version": "3.8.10"
  },
  "orig_nbformat": 4
 },
 "nbformat": 4,
 "nbformat_minor": 2
}
